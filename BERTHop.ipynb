{
  "cells": [
    {
      "cell_type": "markdown",
      "metadata": {
        "colab_type": "text",
        "id": "view-in-github"
      },
      "source": [
        "<a href=\"https://colab.research.google.com/github/YIKUAN8/Transformers-VQA/blob/master/openI_VQA.ipynb\" target=\"_parent\"><img src=\"https://colab.research.google.com/assets/colab-badge.svg\" alt=\"Open In Colab\"/></a>"
      ]
    },
    {
      "cell_type": "markdown",
      "metadata": {
        "colab_type": "text",
        "id": "kWvznJyKtdWm"
      },
      "source": [
        "**In this notebook, we will classify 15 thoracic findings from Chest X-ray images and associated reports. This can be considered as an VQA task. We will fine-tune 3 pre-trained transformer based V+L models. After running through this notebook, you will be able to fine-tune these models on your customized dataset.**\n",
        "\n",
        "####**0.1 clone our repo and install dependencies!**\n"
      ]
    },
    {
      "cell_type": "code",
      "execution_count": 1,
      "metadata": {
        "colab": {
          "base_uri": "https://localhost:8080/",
          "height": 445
        },
        "colab_type": "code",
        "id": "3uk1gG1wtaHf",
        "outputId": "ff1589f3-1a27-4e22-de8e-54827ef8402f"
      },
      "outputs": [
        {
          "name": "stdout",
          "output_type": "stream",
          "text": [
            "Cloning into 'Transformers-VQA'...\n",
            "remote: Enumerating objects: 182, done.\u001b[K\n",
            "remote: Counting objects: 100% (182/182), done.\u001b[K\n",
            "remote: Compressing objects: 100% (101/101), done.\u001b[K\n",
            "remote: Total 182 (delta 64), reused 180 (delta 63), pack-reused 0\u001b[K\n",
            "Receiving objects: 100% (182/182), 1.94 MiB | 2.99 MiB/s, done.\n",
            "Resolving deltas: 100% (64/64), done.\n",
            "/workspaces/BERTHop/Transformers-VQA\n",
            "Requirement already satisfied: torch>=1.0.0 in /home/codespace/.local/lib/python3.10/site-packages (from -r requirements.txt (line 6)) (1.13.1)\n",
            "Collecting tqdm\n",
            "  Downloading tqdm-4.65.0-py3-none-any.whl (77 kB)\n",
            "\u001b[2K     \u001b[90m━━━━━━━━━━━━━━━━━━━━━━━━━━━━━━━━━━━━━━━━\u001b[0m \u001b[32m77.1/77.1 kB\u001b[0m \u001b[31m4.0 MB/s\u001b[0m eta \u001b[36m0:00:00\u001b[0m\n",
            "\u001b[?25hCollecting boto3\n",
            "  Downloading boto3-1.26.109-py3-none-any.whl (135 kB)\n",
            "\u001b[2K     \u001b[90m━━━━━━━━━━━━━━━━━━━━━━━━━━━━━━━━━━━━━━━\u001b[0m \u001b[32m135.6/135.6 kB\u001b[0m \u001b[31m6.9 MB/s\u001b[0m eta \u001b[36m0:00:00\u001b[0m\n",
            "\u001b[?25hRequirement already satisfied: requests in /home/codespace/.local/lib/python3.10/site-packages (from -r requirements.txt (line 12)) (2.28.2)\n",
            "Requirement already satisfied: numpy in /home/codespace/.local/lib/python3.10/site-packages (from -r requirements.txt (line 14)) (1.24.2)\n",
            "Requirement already satisfied: nvidia-cuda-nvrtc-cu11==11.7.99 in /home/codespace/.local/lib/python3.10/site-packages (from torch>=1.0.0->-r requirements.txt (line 6)) (11.7.99)\n",
            "Requirement already satisfied: typing-extensions in /home/codespace/.local/lib/python3.10/site-packages (from torch>=1.0.0->-r requirements.txt (line 6)) (4.5.0)\n",
            "Requirement already satisfied: nvidia-cudnn-cu11==8.5.0.96 in /home/codespace/.local/lib/python3.10/site-packages (from torch>=1.0.0->-r requirements.txt (line 6)) (8.5.0.96)\n",
            "Requirement already satisfied: nvidia-cuda-runtime-cu11==11.7.99 in /home/codespace/.local/lib/python3.10/site-packages (from torch>=1.0.0->-r requirements.txt (line 6)) (11.7.99)\n",
            "Requirement already satisfied: nvidia-cublas-cu11==11.10.3.66 in /home/codespace/.local/lib/python3.10/site-packages (from torch>=1.0.0->-r requirements.txt (line 6)) (11.10.3.66)\n",
            "Requirement already satisfied: wheel in /home/codespace/.local/lib/python3.10/site-packages (from nvidia-cublas-cu11==11.10.3.66->torch>=1.0.0->-r requirements.txt (line 6)) (0.38.4)\n",
            "Requirement already satisfied: setuptools in /home/codespace/.local/lib/python3.10/site-packages (from nvidia-cublas-cu11==11.10.3.66->torch>=1.0.0->-r requirements.txt (line 6)) (67.6.0)\n",
            "Collecting botocore<1.30.0,>=1.29.109\n",
            "  Downloading botocore-1.29.109-py3-none-any.whl (10.6 MB)\n",
            "\u001b[2K     \u001b[90m━━━━━━━━━━━━━━━━━━━━━━━━━━━━━━━━━━━━━━━━\u001b[0m \u001b[32m10.6/10.6 MB\u001b[0m \u001b[31m45.9 MB/s\u001b[0m eta \u001b[36m0:00:00\u001b[0m00:01\u001b[0m00:01\u001b[0m\n",
            "\u001b[?25hCollecting s3transfer<0.7.0,>=0.6.0\n",
            "  Downloading s3transfer-0.6.0-py3-none-any.whl (79 kB)\n",
            "\u001b[2K     \u001b[90m━━━━━━━━━━━━━━━━━━━━━━━━━━━━━━━━━━━━━━━━\u001b[0m \u001b[32m79.6/79.6 kB\u001b[0m \u001b[31m1.3 MB/s\u001b[0m eta \u001b[36m0:00:00\u001b[0mta \u001b[36m0:00:01\u001b[0m\n",
            "\u001b[?25hCollecting jmespath<2.0.0,>=0.7.1\n",
            "  Downloading jmespath-1.0.1-py3-none-any.whl (20 kB)\n",
            "Requirement already satisfied: urllib3<1.27,>=1.21.1 in /home/codespace/.local/lib/python3.10/site-packages (from requests->-r requirements.txt (line 12)) (1.26.15)\n",
            "Requirement already satisfied: certifi>=2017.4.17 in /home/codespace/.local/lib/python3.10/site-packages (from requests->-r requirements.txt (line 12)) (2022.12.7)\n",
            "Requirement already satisfied: idna<4,>=2.5 in /home/codespace/.local/lib/python3.10/site-packages (from requests->-r requirements.txt (line 12)) (3.4)\n",
            "Requirement already satisfied: charset-normalizer<4,>=2 in /home/codespace/.local/lib/python3.10/site-packages (from requests->-r requirements.txt (line 12)) (3.1.0)\n",
            "Requirement already satisfied: python-dateutil<3.0.0,>=2.1 in /home/codespace/.local/lib/python3.10/site-packages (from botocore<1.30.0,>=1.29.109->boto3->-r requirements.txt (line 10)) (2.8.2)\n",
            "Requirement already satisfied: six>=1.5 in /home/codespace/.local/lib/python3.10/site-packages (from python-dateutil<3.0.0,>=2.1->botocore<1.30.0,>=1.29.109->boto3->-r requirements.txt (line 10)) (1.16.0)\n",
            "Installing collected packages: tqdm, jmespath, botocore, s3transfer, boto3\n",
            "Successfully installed boto3-1.26.109 botocore-1.29.109 jmespath-1.0.1 s3transfer-0.6.0 tqdm-4.65.0\n"
          ]
        }
      ],
      "source": [
        "!git clone https://github.com/YIKUAN8/Transformers-VQA.git\n",
        "%cd Transformers-VQA/\n",
        "!pip install -r requirements.txt\n"
      ]
    },
    {
      "cell_type": "markdown",
      "metadata": {
        "colab_type": "text",
        "id": "xb8-z6tYBLFr"
      },
      "source": [
        "**Change the 79th line of param.py from**\n",
        "```\n",
        "args = parser.parse_args()\n",
        "```\n",
        "to\n",
        "```\n",
        "args = parser.parse_args([])\n",
        "```\n",
        "This will enable us to use *argparse* in jupyter notebook!\n",
        "\n"
      ]
    },
    {
      "cell_type": "markdown",
      "metadata": {
        "colab_type": "text",
        "id": "YxFGskafyP2L"
      },
      "source": [
        "####**0.2 Download pre-trained models and place them to data/pretrained/, you could choose from [VisualBERT](https://github.com/uclanlp/visualbert), [LXMERT](https://github.com/airsplay/lxmert), [UNITER](https://github.com/ChenRocks/UNITER).**"
      ]
    },
    {
      "cell_type": "code",
      "execution_count": 2,
      "metadata": {
        "colab": {
          "base_uri": "https://localhost:8080/",
          "height": 853
        },
        "colab_type": "code",
        "id": "lHTrgovTxEQk",
        "outputId": "77bce656-67db-41b4-92e5-b95eec0c43ca"
      },
      "outputs": [
        {
          "name": "stdout",
          "output_type": "stream",
          "text": [
            "--2020-09-06 04:03:41--  https://convaisharables.blob.core.windows.net/uniter/pretrained/uniter-base.pt\n",
            "Resolving convaisharables.blob.core.windows.net (convaisharables.blob.core.windows.net)... 13.77.184.64\n",
            "Connecting to convaisharables.blob.core.windows.net (convaisharables.blob.core.windows.net)|13.77.184.64|:443... connected.\n",
            "HTTP request sent, awaiting response... 200 OK\n",
            "Length: 273600756 (261M) [application/octet-stream]\n",
            "Saving to: ‘models/pretrained/uniter-base.pt’\n",
            "\n",
            "uniter-base.pt      100%[===================>] 260.93M  81.4MB/s    in 3.2s    \n",
            "\n",
            "2020-09-06 04:03:45 (81.4 MB/s) - ‘models/pretrained/uniter-base.pt’ saved [273600756/273600756]\n",
            "\n",
            "--2020-09-06 04:03:45--  https://nlp1.cs.unc.edu/data/model_LXRT.pth\n",
            "Resolving nlp1.cs.unc.edu (nlp1.cs.unc.edu)... 152.2.142.178\n",
            "Connecting to nlp1.cs.unc.edu (nlp1.cs.unc.edu)|152.2.142.178|:443... connected.\n",
            "WARNING: no certificate subject alternative name matches\n",
            "\trequested host name ‘nlp1.cs.unc.edu’.\n",
            "HTTP request sent, awaiting response... 200 OK\n",
            "Length: 912336661 (870M)\n",
            "Saving to: ‘models/pretrained/model_LXRT.pth’\n",
            "\n",
            "model_LXRT.pth      100%[===================>] 870.07M  32.8MB/s    in 25s     \n",
            "\n",
            "2020-09-06 04:04:10 (34.9 MB/s) - ‘models/pretrained/model_LXRT.pth’ saved [912336661/912336661]\n",
            "\n",
            "--2020-09-06 04:04:10--  https://docs.google.com/uc?export=download&confirm=7JFj&id=1kuPr187zWxSJbtCbVW87XzInXltM-i9Y\n",
            "Resolving docs.google.com (docs.google.com)... 74.125.142.113, 74.125.142.101, 74.125.142.138, ...\n",
            "Connecting to docs.google.com (docs.google.com)|74.125.142.113|:443... connected.\n",
            "HTTP request sent, awaiting response... 302 Moved Temporarily\n",
            "Location: https://doc-0k-bg-docs.googleusercontent.com/docs/securesc/31d6lmaombq1h99jfe081l3eof7v28q0/9d6be19qj38t83pckmmvab57r10g3p0u/1599365025000/12682199137908966719/13329583650299206431Z/1kuPr187zWxSJbtCbVW87XzInXltM-i9Y?e=download [following]\n",
            "--2020-09-06 04:04:11--  https://doc-0k-bg-docs.googleusercontent.com/docs/securesc/31d6lmaombq1h99jfe081l3eof7v28q0/9d6be19qj38t83pckmmvab57r10g3p0u/1599365025000/12682199137908966719/13329583650299206431Z/1kuPr187zWxSJbtCbVW87XzInXltM-i9Y?e=download\n",
            "Resolving doc-0k-bg-docs.googleusercontent.com (doc-0k-bg-docs.googleusercontent.com)... 74.125.142.132, 2607:f8b0:400e:c08::84\n",
            "Connecting to doc-0k-bg-docs.googleusercontent.com (doc-0k-bg-docs.googleusercontent.com)|74.125.142.132|:443... connected.\n",
            "HTTP request sent, awaiting response... 302 Found\n",
            "Location: https://docs.google.com/nonceSigner?nonce=rml9s76a2hurs&continue=https://doc-0k-bg-docs.googleusercontent.com/docs/securesc/31d6lmaombq1h99jfe081l3eof7v28q0/9d6be19qj38t83pckmmvab57r10g3p0u/1599365025000/12682199137908966719/13329583650299206431Z/1kuPr187zWxSJbtCbVW87XzInXltM-i9Y?e%3Ddownload&hash=cq9slasru4bhqn0pqj5pqk9l6hnmsh2p [following]\n",
            "--2020-09-06 04:04:11--  https://docs.google.com/nonceSigner?nonce=rml9s76a2hurs&continue=https://doc-0k-bg-docs.googleusercontent.com/docs/securesc/31d6lmaombq1h99jfe081l3eof7v28q0/9d6be19qj38t83pckmmvab57r10g3p0u/1599365025000/12682199137908966719/13329583650299206431Z/1kuPr187zWxSJbtCbVW87XzInXltM-i9Y?e%3Ddownload&hash=cq9slasru4bhqn0pqj5pqk9l6hnmsh2p\n",
            "Connecting to docs.google.com (docs.google.com)|74.125.142.113|:443... connected.\n",
            "HTTP request sent, awaiting response... 302 Found\n",
            "Location: https://doc-0k-bg-docs.googleusercontent.com/docs/securesc/31d6lmaombq1h99jfe081l3eof7v28q0/9d6be19qj38t83pckmmvab57r10g3p0u/1599365025000/12682199137908966719/13329583650299206431Z/1kuPr187zWxSJbtCbVW87XzInXltM-i9Y?e=download&nonce=rml9s76a2hurs&user=13329583650299206431Z&hash=0g59a57dgi6ima3ic4h04n2lj8i0v904 [following]\n",
            "--2020-09-06 04:04:11--  https://doc-0k-bg-docs.googleusercontent.com/docs/securesc/31d6lmaombq1h99jfe081l3eof7v28q0/9d6be19qj38t83pckmmvab57r10g3p0u/1599365025000/12682199137908966719/13329583650299206431Z/1kuPr187zWxSJbtCbVW87XzInXltM-i9Y?e=download&nonce=rml9s76a2hurs&user=13329583650299206431Z&hash=0g59a57dgi6ima3ic4h04n2lj8i0v904\n",
            "Connecting to doc-0k-bg-docs.googleusercontent.com (doc-0k-bg-docs.googleusercontent.com)|74.125.142.132|:443... connected.\n",
            "HTTP request sent, awaiting response... 200 OK\n",
            "Length: unspecified [application/octet-stream]\n",
            "Saving to: ‘models/pretrained/visualbert.th’\n",
            "\n",
            "models/pretrained/v     [               <=>  ] 427.58M  92.6MB/s    in 4.7s    \n",
            "\n",
            "2020-09-06 04:04:16 (90.3 MB/s) - ‘models/pretrained/visualbert.th’ saved [448353963]\n",
            "\n"
          ]
        }
      ],
      "source": [
        "#line 1: UNITER; line 2:LXMERT, line 3: VisualBERT. Comment out selected lines if you don't want to use this model\n",
        "#if the pre-trained VisualBERT cannot be downloaded succesfully, rerun one more time or refer to this link: https://drive.google.com/file/d/1kuPr187zWxSJbtCbVW87XzInXltM-i9Y/view?usp=sharing\n",
        "!wget https://convaisharables.blob.core.windows.net/uniter/pretrained/uniter-base.pt -P models/pretrained/\n",
        "!wget --no-check-certificate https://nlp1.cs.unc.edu/data/model_LXRT.pth -P models/pretrained/\n",
        "!wget --load-cookies /tmp/cookies.txt \"https://docs.google.com/uc?export=download&confirm=$(wget --quiet --save-cookies /tmp/cookies.txt --keep-session-cookies --no-check-certificate 'https://docs.google.com/uc?export=download&id=1kuPr187zWxSJbtCbVW87XzInXltM-i9Y' -O- | sed -rn 's/.*confirm=([0-9A-Za-z_]+).*/\\1\\n/p')&id=1kuPr187zWxSJbtCbVW87XzInXltM-i9Y\" -O models/pretrained/visualbert.th && rm -rf /tmp/cookies.txt\n"
      ]
    },
    {
      "cell_type": "markdown",
      "metadata": {
        "colab_type": "text",
        "id": "qNuJtgvu2b6Q"
      },
      "source": [
        "####**0.3 Download OpenI dataset.**\n",
        "\n",
        "A detailed description of this dataset can be found at [here](https://openi.nlm.nih.gov/). In summary, there are 3684 CXR Image-Report pairs in this dataset. Each pair has an annotation of 15 throacic findings from MESH terms. We convert the raw data to a dataframe with better visibility. It can be accessed with the following command or this [link](https://drive.google.com/file/d/1i3wcfXJbH_4q3rS2rvLxtzbMiO-KuZCG/view?usp=sharing)."
      ]
    },
    {
      "cell_type": "code",
      "execution_count": 3,
      "metadata": {
        "colab": {
          "base_uri": "https://localhost:8080/",
          "height": 445
        },
        "colab_type": "code",
        "id": "3LtT2R7f182I",
        "outputId": "2a5c42fb-a1ea-4810-cea2-4f22ba2b0572"
      },
      "outputs": [
        {
          "name": "stdout",
          "output_type": "stream",
          "text": [
            "--2020-09-06 04:04:28--  https://docs.google.com/uc?export=download&confirm=&id=1i3wcfXJbH_4q3rS2rvLxtzbMiO-KuZCG\n",
            "Resolving docs.google.com (docs.google.com)... 74.125.195.139, 74.125.195.102, 74.125.195.100, ...\n",
            "Connecting to docs.google.com (docs.google.com)|74.125.195.139|:443... connected.\n",
            "HTTP request sent, awaiting response... 302 Moved Temporarily\n",
            "Location: https://doc-10-7c-docs.googleusercontent.com/docs/securesc/26hanb4b42dlebdr1jtffqlfbuactei1/0bsku8rqimbeld6qscr8te4hn4n1r54l/1599365025000/09550986323973647809/13314145366510543445Z/1i3wcfXJbH_4q3rS2rvLxtzbMiO-KuZCG?e=download [following]\n",
            "--2020-09-06 04:04:28--  https://doc-10-7c-docs.googleusercontent.com/docs/securesc/26hanb4b42dlebdr1jtffqlfbuactei1/0bsku8rqimbeld6qscr8te4hn4n1r54l/1599365025000/09550986323973647809/13314145366510543445Z/1i3wcfXJbH_4q3rS2rvLxtzbMiO-KuZCG?e=download\n",
            "Resolving doc-10-7c-docs.googleusercontent.com (doc-10-7c-docs.googleusercontent.com)... 74.125.142.132, 2607:f8b0:400e:c08::84\n",
            "Connecting to doc-10-7c-docs.googleusercontent.com (doc-10-7c-docs.googleusercontent.com)|74.125.142.132|:443... connected.\n",
            "HTTP request sent, awaiting response... 302 Found\n",
            "Location: https://docs.google.com/nonceSigner?nonce=r0rq8shdl6m7a&continue=https://doc-10-7c-docs.googleusercontent.com/docs/securesc/26hanb4b42dlebdr1jtffqlfbuactei1/0bsku8rqimbeld6qscr8te4hn4n1r54l/1599365025000/09550986323973647809/13314145366510543445Z/1i3wcfXJbH_4q3rS2rvLxtzbMiO-KuZCG?e%3Ddownload&hash=njpvtanjc5purc3p95l4es8lhheriqla [following]\n",
            "--2020-09-06 04:04:28--  https://docs.google.com/nonceSigner?nonce=r0rq8shdl6m7a&continue=https://doc-10-7c-docs.googleusercontent.com/docs/securesc/26hanb4b42dlebdr1jtffqlfbuactei1/0bsku8rqimbeld6qscr8te4hn4n1r54l/1599365025000/09550986323973647809/13314145366510543445Z/1i3wcfXJbH_4q3rS2rvLxtzbMiO-KuZCG?e%3Ddownload&hash=njpvtanjc5purc3p95l4es8lhheriqla\n",
            "Connecting to docs.google.com (docs.google.com)|74.125.195.139|:443... connected.\n",
            "HTTP request sent, awaiting response... 302 Found\n",
            "Location: https://doc-10-7c-docs.googleusercontent.com/docs/securesc/26hanb4b42dlebdr1jtffqlfbuactei1/0bsku8rqimbeld6qscr8te4hn4n1r54l/1599365025000/09550986323973647809/13314145366510543445Z/1i3wcfXJbH_4q3rS2rvLxtzbMiO-KuZCG?e=download&nonce=r0rq8shdl6m7a&user=13314145366510543445Z&hash=9er9g8hj6d1bk20p5gtno8hv2777ba25 [following]\n",
            "--2020-09-06 04:04:28--  https://doc-10-7c-docs.googleusercontent.com/docs/securesc/26hanb4b42dlebdr1jtffqlfbuactei1/0bsku8rqimbeld6qscr8te4hn4n1r54l/1599365025000/09550986323973647809/13314145366510543445Z/1i3wcfXJbH_4q3rS2rvLxtzbMiO-KuZCG?e=download&nonce=r0rq8shdl6m7a&user=13314145366510543445Z&hash=9er9g8hj6d1bk20p5gtno8hv2777ba25\n",
            "Connecting to doc-10-7c-docs.googleusercontent.com (doc-10-7c-docs.googleusercontent.com)|74.125.142.132|:443... connected.\n",
            "HTTP request sent, awaiting response... 200 OK\n",
            "Length: 1138211 (1.1M) [text/csv]\n",
            "Saving to: ‘data/openIdf.csv’\n",
            "\n",
            "data/openIdf.csv    100%[===================>]   1.08M  --.-KB/s    in 0.008s  \n",
            "\n",
            "2020-09-06 04:04:29 (138 MB/s) - ‘data/openIdf.csv’ saved [1138211/1138211]\n",
            "\n"
          ]
        }
      ],
      "source": [
        "!wget --load-cookies /tmp/cookies.txt \"https://docs.google.com/uc?export=download&confirm=$(wget --quiet --save-cookies /tmp/cookies.txt --keep-session-cookies --no-check-certificate 'https://docs.google.com/uc?export=download&id=1i3wcfXJbH_4q3rS2rvLxtzbMiO-KuZCG' -O- | sed -rn 's/.*confirm=([0-9A-Za-z_]+).*/\\1\\n/p')&id=1i3wcfXJbH_4q3rS2rvLxtzbMiO-KuZCG\" -O data/openIdf.csv && rm -rf /tmp/cookies.txt\n"
      ]
    },
    {
      "cell_type": "markdown",
      "metadata": {
        "colab_type": "text",
        "id": "Jj4Bb46J544J"
      },
      "source": [
        "***0.3.1 Have a glance of this dataframe, column 'TXT' is the radiology report; column 'split' and 'id' are self-explantory; All other columns are the 15 findings. Our task will be a 15-labels binary classification with visual and semantic input.***"
      ]
    },
    {
      "cell_type": "code",
      "execution_count": 4,
      "metadata": {
        "colab": {
          "base_uri": "https://localhost:8080/",
          "height": 479
        },
        "colab_type": "code",
        "id": "QYRxsh7G5xGK",
        "outputId": "88870b26-ddc7-4959-a868-b55dbffcd91e"
      },
      "outputs": [
        {
          "data": {
            "text/html": [
              "<div>\n",
              "<style scoped>\n",
              "    .dataframe tbody tr th:only-of-type {\n",
              "        vertical-align: middle;\n",
              "    }\n",
              "\n",
              "    .dataframe tbody tr th {\n",
              "        vertical-align: top;\n",
              "    }\n",
              "\n",
              "    .dataframe thead th {\n",
              "        text-align: right;\n",
              "    }\n",
              "</style>\n",
              "<table border=\"1\" class=\"dataframe\">\n",
              "  <thead>\n",
              "    <tr style=\"text-align: right;\">\n",
              "      <th></th>\n",
              "      <th>id</th>\n",
              "      <th>Atelectasis</th>\n",
              "      <th>Cardiomegaly</th>\n",
              "      <th>Effusion</th>\n",
              "      <th>Infiltration</th>\n",
              "      <th>Mass</th>\n",
              "      <th>Nodule</th>\n",
              "      <th>Pneumonia</th>\n",
              "      <th>Pneumothorax</th>\n",
              "      <th>Consolidation</th>\n",
              "      <th>Edema</th>\n",
              "      <th>Emphysema</th>\n",
              "      <th>Fibrosis</th>\n",
              "      <th>Pleural_Thickening</th>\n",
              "      <th>Hernia</th>\n",
              "      <th>Normal</th>\n",
              "      <th>split</th>\n",
              "      <th>TXT</th>\n",
              "    </tr>\n",
              "  </thead>\n",
              "  <tbody>\n",
              "    <tr>\n",
              "      <th>0</th>\n",
              "      <td>1</td>\n",
              "      <td>0</td>\n",
              "      <td>0</td>\n",
              "      <td>0</td>\n",
              "      <td>0</td>\n",
              "      <td>0</td>\n",
              "      <td>0</td>\n",
              "      <td>0</td>\n",
              "      <td>0</td>\n",
              "      <td>0</td>\n",
              "      <td>0</td>\n",
              "      <td>0</td>\n",
              "      <td>0</td>\n",
              "      <td>0</td>\n",
              "      <td>0</td>\n",
              "      <td>1</td>\n",
              "      <td>train</td>\n",
              "      <td>The cardiac silhouette and mediastinum size ar...</td>\n",
              "    </tr>\n",
              "    <tr>\n",
              "      <th>1021</th>\n",
              "      <td>2</td>\n",
              "      <td>0</td>\n",
              "      <td>1</td>\n",
              "      <td>0</td>\n",
              "      <td>0</td>\n",
              "      <td>0</td>\n",
              "      <td>0</td>\n",
              "      <td>0</td>\n",
              "      <td>0</td>\n",
              "      <td>0</td>\n",
              "      <td>0</td>\n",
              "      <td>0</td>\n",
              "      <td>0</td>\n",
              "      <td>0</td>\n",
              "      <td>0</td>\n",
              "      <td>0</td>\n",
              "      <td>train</td>\n",
              "      <td>Borderline cardiomegaly. Midline sternotomy XX...</td>\n",
              "    </tr>\n",
              "    <tr>\n",
              "      <th>2020</th>\n",
              "      <td>3</td>\n",
              "      <td>0</td>\n",
              "      <td>0</td>\n",
              "      <td>0</td>\n",
              "      <td>0</td>\n",
              "      <td>0</td>\n",
              "      <td>0</td>\n",
              "      <td>0</td>\n",
              "      <td>0</td>\n",
              "      <td>0</td>\n",
              "      <td>0</td>\n",
              "      <td>0</td>\n",
              "      <td>0</td>\n",
              "      <td>0</td>\n",
              "      <td>0</td>\n",
              "      <td>1</td>\n",
              "      <td>train</td>\n",
              "      <td>No displaced rib fractures, pneumothorax, or ...</td>\n",
              "    </tr>\n",
              "    <tr>\n",
              "      <th>3061</th>\n",
              "      <td>4</td>\n",
              "      <td>0</td>\n",
              "      <td>0</td>\n",
              "      <td>0</td>\n",
              "      <td>0</td>\n",
              "      <td>0</td>\n",
              "      <td>0</td>\n",
              "      <td>0</td>\n",
              "      <td>0</td>\n",
              "      <td>0</td>\n",
              "      <td>0</td>\n",
              "      <td>0</td>\n",
              "      <td>1</td>\n",
              "      <td>0</td>\n",
              "      <td>0</td>\n",
              "      <td>0</td>\n",
              "      <td>train</td>\n",
              "      <td>There are diffuse bilateral interstitial and a...</td>\n",
              "    </tr>\n",
              "    <tr>\n",
              "      <th>3169</th>\n",
              "      <td>5</td>\n",
              "      <td>0</td>\n",
              "      <td>0</td>\n",
              "      <td>0</td>\n",
              "      <td>0</td>\n",
              "      <td>0</td>\n",
              "      <td>0</td>\n",
              "      <td>0</td>\n",
              "      <td>0</td>\n",
              "      <td>0</td>\n",
              "      <td>0</td>\n",
              "      <td>0</td>\n",
              "      <td>0</td>\n",
              "      <td>1</td>\n",
              "      <td>0</td>\n",
              "      <td>0</td>\n",
              "      <td>train</td>\n",
              "      <td>The cardiomediastinal silhouette and pulmonary...</td>\n",
              "    </tr>\n",
              "  </tbody>\n",
              "</table>\n",
              "</div>"
            ],
            "text/plain": [
              "      id  Atelectasis  ...  split                                                TXT\n",
              "0      1            0  ...  train  The cardiac silhouette and mediastinum size ar...\n",
              "1021   2            0  ...  train  Borderline cardiomegaly. Midline sternotomy XX...\n",
              "2020   3            0  ...  train   No displaced rib fractures, pneumothorax, or ...\n",
              "3061   4            0  ...  train  There are diffuse bilateral interstitial and a...\n",
              "3169   5            0  ...  train  The cardiomediastinal silhouette and pulmonary...\n",
              "\n",
              "[5 rows x 18 columns]"
            ]
          },
          "execution_count": 4,
          "metadata": {
            "tags": []
          },
          "output_type": "execute_result"
        }
      ],
      "source": [
        "import pandas as pd\n",
        "openI = pd.read_csv('data/openIdf.csv',index_col=0)\n",
        "openI.head()"
      ]
    },
    {
      "cell_type": "markdown",
      "metadata": {
        "colab_type": "text",
        "id": "mZ3wU6U_7X-B"
      },
      "source": [
        "####**0.4 Download the visaul features extracted by BUTD. 36 2048-dimension visual feature is extracted from each CXR Image. We use this [implementation](https://github.com/airsplay/py-bottom-up-attention). This step will take a while (~1min). To save downloading time, you can also make a copy of this [shareable link](https://drive.google.com/file/d/1BFw0jc0j-ffT2PhI4CZeP3IJFZg3GxlZ/view?usp=sharing) to your own google drive and mount you colab to your gdrive.**\n",
        "\n",
        "\n",
        "*If you are interested in the original CXR images, which is unnecessary to out project , you can access them [here](https://drive.google.com/drive/folders/1s5A0CFB6-2N5ThbuorUK1t-bUEKmZnjz?usp=sharing).*"
      ]
    },
    {
      "cell_type": "code",
      "execution_count": 5,
      "metadata": {
        "colab": {
          "base_uri": "https://localhost:8080/",
          "height": 445
        },
        "colab_type": "code",
        "id": "24qTThfK6R_z",
        "outputId": "5e27e619-a70e-4b9f-95c5-e1dcf87be86b"
      },
      "outputs": [
        {
          "name": "stdout",
          "output_type": "stream",
          "text": [
            "--2020-09-06 04:04:48--  https://docs.google.com/uc?export=download&confirm=6hrU&id=1BFw0jc0j-ffT2PhI4CZeP3IJFZg3GxlZ\n",
            "Resolving docs.google.com (docs.google.com)... 74.125.142.113, 74.125.142.101, 74.125.142.138, ...\n",
            "Connecting to docs.google.com (docs.google.com)|74.125.142.113|:443... connected.\n",
            "HTTP request sent, awaiting response... 302 Moved Temporarily\n",
            "Location: https://doc-0s-04-docs.googleusercontent.com/docs/securesc/iqb046dipnie0n4nop6f1jphpu9ve873/90glq5kpqavjkrg7pq6sj14s5s6d5676/1599365025000/09550986323973647809/13457397186708642344Z/1BFw0jc0j-ffT2PhI4CZeP3IJFZg3GxlZ?e=download [following]\n",
            "--2020-09-06 04:04:49--  https://doc-0s-04-docs.googleusercontent.com/docs/securesc/iqb046dipnie0n4nop6f1jphpu9ve873/90glq5kpqavjkrg7pq6sj14s5s6d5676/1599365025000/09550986323973647809/13457397186708642344Z/1BFw0jc0j-ffT2PhI4CZeP3IJFZg3GxlZ?e=download\n",
            "Resolving doc-0s-04-docs.googleusercontent.com (doc-0s-04-docs.googleusercontent.com)... 74.125.142.132, 2607:f8b0:400e:c08::84\n",
            "Connecting to doc-0s-04-docs.googleusercontent.com (doc-0s-04-docs.googleusercontent.com)|74.125.142.132|:443... connected.\n",
            "HTTP request sent, awaiting response... 302 Found\n",
            "Location: https://docs.google.com/nonceSigner?nonce=2jj62qr7hjkl6&continue=https://doc-0s-04-docs.googleusercontent.com/docs/securesc/iqb046dipnie0n4nop6f1jphpu9ve873/90glq5kpqavjkrg7pq6sj14s5s6d5676/1599365025000/09550986323973647809/13457397186708642344Z/1BFw0jc0j-ffT2PhI4CZeP3IJFZg3GxlZ?e%3Ddownload&hash=1v1pn4fhfbvqk0vsqa7loediiq5g4912 [following]\n",
            "--2020-09-06 04:04:49--  https://docs.google.com/nonceSigner?nonce=2jj62qr7hjkl6&continue=https://doc-0s-04-docs.googleusercontent.com/docs/securesc/iqb046dipnie0n4nop6f1jphpu9ve873/90glq5kpqavjkrg7pq6sj14s5s6d5676/1599365025000/09550986323973647809/13457397186708642344Z/1BFw0jc0j-ffT2PhI4CZeP3IJFZg3GxlZ?e%3Ddownload&hash=1v1pn4fhfbvqk0vsqa7loediiq5g4912\n",
            "Connecting to docs.google.com (docs.google.com)|74.125.142.113|:443... connected.\n",
            "HTTP request sent, awaiting response... 302 Found\n",
            "Location: https://doc-0s-04-docs.googleusercontent.com/docs/securesc/iqb046dipnie0n4nop6f1jphpu9ve873/90glq5kpqavjkrg7pq6sj14s5s6d5676/1599365025000/09550986323973647809/13457397186708642344Z/1BFw0jc0j-ffT2PhI4CZeP3IJFZg3GxlZ?e=download&nonce=2jj62qr7hjkl6&user=13457397186708642344Z&hash=7eke949a2comhvvgssed12ntq0a60s2l [following]\n",
            "--2020-09-06 04:04:49--  https://doc-0s-04-docs.googleusercontent.com/docs/securesc/iqb046dipnie0n4nop6f1jphpu9ve873/90glq5kpqavjkrg7pq6sj14s5s6d5676/1599365025000/09550986323973647809/13457397186708642344Z/1BFw0jc0j-ffT2PhI4CZeP3IJFZg3GxlZ?e=download&nonce=2jj62qr7hjkl6&user=13457397186708642344Z&hash=7eke949a2comhvvgssed12ntq0a60s2l\n",
            "Connecting to doc-0s-04-docs.googleusercontent.com (doc-0s-04-docs.googleusercontent.com)|74.125.142.132|:443... connected.\n",
            "HTTP request sent, awaiting response... 200 OK\n",
            "Length: unspecified [application/octet-stream]\n",
            "Saving to: ‘data/openI_v_features.pickle’\n",
            "\n",
            "data/openI_v_featur     [   <=>              ]   1.01G  92.6MB/s    in 11s     \n",
            "\n",
            "2020-09-06 04:05:00 (93.0 MB/s) - ‘data/openI_v_features.pickle’ saved [1088927664]\n",
            "\n"
          ]
        }
      ],
      "source": [
        "!wget --load-cookies /tmp/cookies.txt \"https://docs.google.com/uc?export=download&confirm=$(wget --quiet --save-cookies /tmp/cookies.txt --keep-session-cookies --no-check-certificate 'https://docs.google.com/uc?export=download&id=1BFw0jc0j-ffT2PhI4CZeP3IJFZg3GxlZ' -O- | sed -rn 's/.*confirm=([0-9A-Za-z_]+).*/\\1\\n/p')&id=1BFw0jc0j-ffT2PhI4CZeP3IJFZg3GxlZ\" -O data/openI_v_features.pickle && rm -rf /tmp/cookies.txt"
      ]
    },
    {
      "cell_type": "markdown",
      "metadata": {
        "colab_type": "text",
        "id": "XI_nOZOh92F6"
      },
      "source": [
        "***0.4.1 Load visual features***"
      ]
    },
    {
      "cell_type": "code",
      "execution_count": 6,
      "metadata": {
        "colab": {},
        "colab_type": "code",
        "id": "YkMj9DWU9hd4"
      },
      "outputs": [],
      "source": [
        "import pickle\n",
        "openI_v_f = pickle.load( open( \"/content/Transformers-VQA/data/openI_v_features.pickle\", \"rb\" ) )"
      ]
    },
    {
      "cell_type": "code",
      "execution_count": 7,
      "metadata": {
        "colab": {},
        "colab_type": "code",
        "id": "RjNs-h_v-NSR"
      },
      "outputs": [],
      "source": [
        "assert set(list(openI_v_f.keys())) == set(openI.id.values), \"Visual Features are inconsistent with openI dataset\""
      ]
    },
    {
      "cell_type": "code",
      "execution_count": 8,
      "metadata": {
        "colab": {},
        "colab_type": "code",
        "id": "eblFG3hO-TJl"
      },
      "outputs": [],
      "source": [
        "feature_example, bbox_example, (img_w_example, img_h_example) = openI_v_f[openI.id.iloc[0]]"
      ]
    },
    {
      "cell_type": "code",
      "execution_count": 9,
      "metadata": {
        "colab": {
          "base_uri": "https://localhost:8080/",
          "height": 34
        },
        "colab_type": "code",
        "id": "RQif-R9R-6JL",
        "outputId": "47cd90b6-a2d3-494b-ed74-fbeb706c91b0"
      },
      "outputs": [
        {
          "data": {
            "text/plain": [
              "((36, 4), (36, 2048), (420, 512))"
            ]
          },
          "execution_count": 9,
          "metadata": {
            "tags": []
          },
          "output_type": "execute_result"
        }
      ],
      "source": [
        "feature_example.shape, bbox_example.shape, (img_w_example, img_h_example)"
      ]
    },
    {
      "cell_type": "markdown",
      "metadata": {
        "colab_type": "text",
        "id": "Av4fOtWY_kUy"
      },
      "source": [
        "####**Now We have download all data, models, and dependencies. We are good to go!!!**\n",
        "**1. Change default arguments**\n",
        "\n",
        "First, let's check it out!"
      ]
    },
    {
      "cell_type": "code",
      "execution_count": 10,
      "metadata": {
        "colab": {},
        "colab_type": "code",
        "id": "JDbsVwU1L0fv"
      },
      "outputs": [],
      "source": [
        "from param import args"
      ]
    },
    {
      "cell_type": "code",
      "execution_count": 11,
      "metadata": {
        "colab": {
          "base_uri": "https://localhost:8080/",
          "height": 391
        },
        "colab_type": "code",
        "id": "XWfkpkyqL0nx",
        "outputId": "a4a09ce6-2226-400c-9bc0-fe0c3ea74b33"
      },
      "outputs": [
        {
          "data": {
            "text/plain": [
              "{'batch_size': 32,\n",
              " 'dropout': 0.1,\n",
              " 'epochs': 2,\n",
              " 'fast': False,\n",
              " 'from_scratch': False,\n",
              " 'load_pretrained': None,\n",
              " 'load_trained': None,\n",
              " 'lr': 0.0001,\n",
              " 'max_seq_length': 20,\n",
              " 'mce_loss': False,\n",
              " 'model': 'lxmert',\n",
              " 'multiGPU': False,\n",
              " 'num_workers': 0,\n",
              " 'optim': 'bert',\n",
              " 'optimizer': 'bert',\n",
              " 'output': 'models/trained/',\n",
              " 'seed': 9595,\n",
              " 'test': None,\n",
              " 'tiny': False,\n",
              " 'tqdm': True,\n",
              " 'train': 'train,nominival',\n",
              " 'valid': 'minival'}"
            ]
          },
          "execution_count": 11,
          "metadata": {
            "tags": []
          },
          "output_type": "execute_result"
        }
      ],
      "source": [
        "args.__dict__"
      ]
    },
    {
      "cell_type": "markdown",
      "metadata": {
        "colab_type": "text",
        "id": "DjVa6bzEMD9o"
      },
      "source": [
        "***1.1*** Let's overwrite some arguments***"
      ]
    },
    {
      "cell_type": "code",
      "execution_count": 39,
      "metadata": {
        "colab": {},
        "colab_type": "code",
        "id": "zr13E_VOL0lI"
      },
      "outputs": [],
      "source": [
        "args.batch_size = 18\n",
        "args.epochs = 2\n",
        "args.model = 'visualbert' # use visualbert\n",
        "args.load_pretrained = '/content/Transformers-VQA/models/pretrained/visualbert.th' #load pretrained visualbert model\n",
        "args.max_seq_length = 128 #truncate or pad report lengths to 128 subwords"
      ]
    },
    {
      "cell_type": "code",
      "execution_count": null,
      "metadata": {
        "colab": {},
        "colab_type": "code",
        "id": "tu7RcPXnL0i9"
      },
      "outputs": [],
      "source": []
    },
    {
      "cell_type": "markdown",
      "metadata": {
        "colab_type": "text",
        "id": "ebDy_6n3LTIX"
      },
      "source": [
        "####**2. Create customized dataloader**"
      ]
    },
    {
      "cell_type": "code",
      "execution_count": 13,
      "metadata": {
        "colab": {
          "base_uri": "https://localhost:8080/",
          "height": 272
        },
        "colab_type": "code",
        "id": "dRnXgYJUEzlm",
        "outputId": "79e37e5b-d2d3-4362-ce38-63dab85f1839"
      },
      "outputs": [
        {
          "data": {
            "text/plain": [
              "['Atelectasis',\n",
              " 'Cardiomegaly',\n",
              " 'Effusion',\n",
              " 'Infiltration',\n",
              " 'Mass',\n",
              " 'Nodule',\n",
              " 'Pneumonia',\n",
              " 'Pneumothorax',\n",
              " 'Consolidation',\n",
              " 'Edema',\n",
              " 'Emphysema',\n",
              " 'Fibrosis',\n",
              " 'Pleural_Thickening',\n",
              " 'Hernia',\n",
              " 'Normal']"
            ]
          },
          "execution_count": 13,
          "metadata": {
            "tags": []
          },
          "output_type": "execute_result"
        }
      ],
      "source": [
        "findings = list(openI.columns[1:-2])\n",
        "findings"
      ]
    },
    {
      "cell_type": "code",
      "execution_count": 14,
      "metadata": {
        "colab": {},
        "colab_type": "code",
        "id": "698_jFhK_zyD"
      },
      "outputs": [],
      "source": [
        "from torch.utils.data import Dataset\n",
        "from torch.utils.data.dataloader import DataLoader\n",
        "import numpy as np\n",
        "class OpenIDataset(Dataset):\n",
        "  def __init__(self, df, vf, split, model = 'lxmert'):\n",
        "    # train_test_split and prepare labels\n",
        "    self.dataset = df[df['split'] == split]\n",
        "    self.visual_features = vf\n",
        "    self.id_list = self.dataset.id.tolist()\n",
        "    self.report_list = self.dataset.TXT.tolist()\n",
        "    self.findings_list = self.dataset.columns[1:-2]\n",
        "    self.target_list = self.dataset[self.findings_list].to_numpy().astype(np.float32)\n",
        "    self.model = model\n",
        "\n",
        "  def __len__(self):\n",
        "    return len(self.id_list)\n",
        "\n",
        "  def __getitem__(self, item):\n",
        "    cxr_id = self.id_list[item]\n",
        "    target = self.target_list[item]\n",
        "    boxes, feats, (img_w, img_h) = self.visual_features[cxr_id]\n",
        "    report = self.report_list[item]\n",
        "    if self.model == 'uniter':\n",
        "      boxes = self._uniterBoxes(boxes)\n",
        "    if self.model == 'lxmert':\n",
        "      boxes[:, (0, 2)] /= img_w\n",
        "      boxes[:, (1, 3)] /= img_h\n",
        "    return cxr_id, feats, boxes, report, target\n",
        "\n",
        "  def _uniterBoxes(self, boxes):#uniter requires a 7-dimensiom beside the regular 4-d bbox\n",
        "    new_boxes = np.zeros((boxes.shape[0],7),dtype='float32')\n",
        "    new_boxes = np.zeros((boxes.shape[0],7),dtype='float32')\n",
        "    new_boxes[:,1] = boxes[:,0]\n",
        "    new_boxes[:,0] = boxes[:,1]\n",
        "    new_boxes[:,3] = boxes[:,2]\n",
        "    new_boxes[:,2] = boxes[:,3]\n",
        "    new_boxes[:,4] = new_boxes[:,3]-new_boxes[:,1] #w\n",
        "    new_boxes[:,5] = new_boxes[:,2]-new_boxes[:,0] #h\n",
        "    new_boxes[:,6]=new_boxes[:,4]*new_boxes[:,5] #area\n",
        "    return new_boxes  "
      ]
    },
    {
      "cell_type": "code",
      "execution_count": 15,
      "metadata": {
        "colab": {},
        "colab_type": "code",
        "id": "gbcfc_2JHllX"
      },
      "outputs": [],
      "source": [
        "training = OpenIDataset(df = openI, vf = openI_v_f,  split='train', model = args.model)\n",
        "testing = OpenIDataset(df = openI, vf = openI_v_f,  split='test', model = args.model)"
      ]
    },
    {
      "cell_type": "code",
      "execution_count": 29,
      "metadata": {
        "colab": {},
        "colab_type": "code",
        "id": "VnnacfHxIhP3"
      },
      "outputs": [],
      "source": [
        "train_loader = DataLoader(training, batch_size=args.batch_size,shuffle=True, num_workers=0,drop_last=True, pin_memory=True)\n",
        "test_loader = DataLoader(testing, batch_size=128,shuffle=False, num_workers=0,drop_last=False, pin_memory=True)"
      ]
    },
    {
      "cell_type": "markdown",
      "metadata": {
        "colab_type": "text",
        "id": "eXPaP_mFNes3"
      },
      "source": [
        "####**3. Model, Optimizer, Loss Function, and Evaluation Function**"
      ]
    },
    {
      "cell_type": "code",
      "execution_count": 50,
      "metadata": {
        "colab": {},
        "colab_type": "code",
        "id": "6uykSct2KTw3"
      },
      "outputs": [],
      "source": [
        "from vqa_model import VQAModel\n",
        "#init model\n",
        "model = VQAModel(num_answers = len(findings), model = args.model)"
      ]
    },
    {
      "cell_type": "code",
      "execution_count": 51,
      "metadata": {
        "colab": {
          "base_uri": "https://localhost:8080/",
          "height": 255
        },
        "colab_type": "code",
        "id": "P3iW1th0Oh_u",
        "outputId": "7b9d8b34-0ecd-4cc1-ca3d-58bf927506d6"
      },
      "outputs": [
        {
          "name": "stdout",
          "output_type": "stream",
          "text": [
            "Load VISUALBERT PreTrained Model from /content/Transformers-VQA/models/pretrained/visualbert.th\n",
            "\n",
            "Weights in loaded but not in model:\n",
            "cls.predictions.bias\n",
            "cls.predictions.decoder.weight\n",
            "cls.predictions.transform.LayerNorm.bias\n",
            "cls.predictions.transform.LayerNorm.weight\n",
            "cls.predictions.transform.dense.bias\n",
            "cls.predictions.transform.dense.weight\n",
            "cls.seq_relationship.bias\n",
            "cls.seq_relationship.weight\n",
            "\n",
            "Weights in model but not in loaded:\n",
            "\n"
          ]
        }
      ],
      "source": [
        "#load pretrained weights\n",
        "model.encoder.load(args.load_pretrained)"
      ]
    },
    {
      "cell_type": "code",
      "execution_count": 52,
      "metadata": {
        "colab": {},
        "colab_type": "code",
        "id": "mu24KigJOzPh"
      },
      "outputs": [],
      "source": [
        "#send to GPU\n",
        "model = model.cuda()\n"
      ]
    },
    {
      "cell_type": "code",
      "execution_count": 53,
      "metadata": {
        "colab": {},
        "colab_type": "code",
        "id": "X8PSIXBVPCzZ"
      },
      "outputs": [],
      "source": [
        "import torch\n",
        "loss = torch.nn.BCEWithLogitsLoss()"
      ]
    },
    {
      "cell_type": "code",
      "execution_count": 54,
      "metadata": {
        "colab": {},
        "colab_type": "code",
        "id": "C7Ya8sMYPPZw"
      },
      "outputs": [],
      "source": [
        "from src.optimization import BertAdam\n",
        "optim = BertAdam(list(model.parameters()),lr=args.lr,warmup=0.1,t_total=len(train_loader)*args.epochs)\n",
        "# t_total denotes total training steps\n",
        "# batch_per_epoch = len(train_loader)\n",
        "# t_total = int(batch_per_epoch * args.epochs)"
      ]
    },
    {
      "cell_type": "code",
      "execution_count": 55,
      "metadata": {
        "colab": {},
        "colab_type": "code",
        "id": "UEyAhI33Pu4T"
      },
      "outputs": [],
      "source": [
        "# Evaluation function, we will report the AUC and accuray of each finding\n",
        "def eval(target, pred):\n",
        "    acc_list = []\n",
        "    for i, d in enumerate(findings[:-1]): #normal is excluded\n",
        "        acc = np.mean(target[:,i] == (pred[:,i]>=0.5))\n",
        "        print(i,d,acc)\n",
        "        acc_list.append(acc)\n",
        "    print('Averaged: '+str(np.average(acc_list)))"
      ]
    },
    {
      "cell_type": "code",
      "execution_count": 56,
      "metadata": {
        "colab": {},
        "colab_type": "code",
        "id": "3o3MuvKgShwb"
      },
      "outputs": [],
      "source": [
        "sgmd = torch.nn.Sigmoid()"
      ]
    },
    {
      "cell_type": "markdown",
      "metadata": {
        "colab_type": "text",
        "id": "3YFUoKlaQmYC"
      },
      "source": [
        "####**4. HIT and RUN**"
      ]
    },
    {
      "cell_type": "code",
      "execution_count": 57,
      "metadata": {
        "colab": {
          "base_uri": "https://localhost:8080/",
          "height": 791,
          "referenced_widgets": [
            "72c243f0fea84d21b818beb4ac27b2d7",
            "b9374f4e4b32423892a28b34b553b332",
            "a95bbddd8e5c4e03bff64e3b80bd881f",
            "76b353baa18c49acb52df0366ca87c97",
            "ab3a076576404f63866e8cff6f5482a4",
            "4a1a8b0eea6a48318a0e8b8ec9f188c2",
            "41046242a45c4bb6b84d69819ee8418a",
            "11a99243f3654a6084292750006628dc",
            "a7dfc96af13847c89543cfc62568b82e",
            "0faad0d7fe3c482db16a39107c58d35b",
            "a67b28529fb9411dab2b981d9f6c84f6",
            "b3a451c51c0444a0b9a395269909c496",
            "24cea1f04ff24113a23ec5fcf7ef84c3",
            "71ab4c404745480481803c9d3f4b85fc",
            "3839a97dea7c4571831c0bb5d89e4890",
            "d6bb5f5da6904817b50588c3944f06ce",
            "07b93302c26f4706bf0ed979b2dcfdcc",
            "474c46c5156244e298007d98d23e3f85",
            "5414298fd9084eb9b401e2b57ff47e58",
            "d9b2695f88e14fad890ebd2015d3a48d",
            "2de5b7ad8ac441059e1dd58cbd5bd72c",
            "eef1bcd19f7d47bcbede6f1d5c976e88",
            "1f0515e1a34a45d2b11df7f9fe96462e",
            "5527bc1e0de64cb08d3bab4840df7da5",
            "68b1d672ec60458e83f2ac7dcf999a78",
            "e7cec90be3af4a359e535d94d5c0b9d4",
            "55151c83006a431997d35f5c7c3dcc94",
            "88fafa6309754e759907ae056dcb39e7",
            "229776e2db2f4d7fab001cbc062f4a88",
            "6bd0f9775c964014a1b8d632a29377d4",
            "58d75a9ae4ff43ccbac6c5a24929a86b",
            "43b6f8b08d504da581b496bfac7e33b0"
          ]
        },
        "colab_type": "code",
        "id": "bcqsru7nQdMv",
        "outputId": "82e1788b-8de7-4048-8ce3-b7cc283ba19f"
      },
      "outputs": [
        {
          "data": {
            "application/vnd.jupyter.widget-view+json": {
              "model_id": "72c243f0fea84d21b818beb4ac27b2d7",
              "version_major": 2,
              "version_minor": 0
            },
            "text/plain": [
              "HBox(children=(FloatProgress(value=0.0, max=161.0), HTML(value='')))"
            ]
          },
          "metadata": {
            "tags": []
          },
          "output_type": "display_data"
        },
        {
          "name": "stdout",
          "output_type": "stream",
          "text": [
            "\n",
            "Epoch 0: Training Loss: tensor(2.2392, device='cuda:0', grad_fn=<DivBackward0>)\n",
            "Evaluation: \n"
          ]
        },
        {
          "data": {
            "application/vnd.jupyter.widget-view+json": {
              "model_id": "a7dfc96af13847c89543cfc62568b82e",
              "version_major": 2,
              "version_minor": 0
            },
            "text/plain": [
              "HBox(children=(FloatProgress(value=0.0, max=7.0), HTML(value='')))"
            ]
          },
          "metadata": {
            "tags": []
          },
          "output_type": "display_data"
        },
        {
          "name": "stdout",
          "output_type": "stream",
          "text": [
            "\n",
            "0 Atelectasis 0.8989637305699482\n",
            "1 Cardiomegaly 0.8963730569948186\n",
            "2 Effusion 0.9455958549222798\n",
            "3 Infiltration 0.9715025906735751\n",
            "4 Mass 0.9961139896373057\n",
            "5 Nodule 0.966321243523316\n",
            "6 Pneumonia 0.9857512953367875\n",
            "7 Pneumothorax 0.9935233160621761\n",
            "8 Consolidation 0.9857512953367875\n",
            "9 Edema 0.9805699481865285\n",
            "10 Emphysema 0.9676165803108808\n",
            "11 Fibrosis 0.9935233160621761\n",
            "12 Pleural_Thickening 0.9792746113989638\n",
            "13 Hernia 1.0\n",
            "Averaged: 0.9686343449296818\n"
          ]
        },
        {
          "data": {
            "application/vnd.jupyter.widget-view+json": {
              "model_id": "07b93302c26f4706bf0ed979b2dcfdcc",
              "version_major": 2,
              "version_minor": 0
            },
            "text/plain": [
              "HBox(children=(FloatProgress(value=0.0, max=7.0), HTML(value='')))"
            ]
          },
          "metadata": {
            "tags": []
          },
          "output_type": "display_data"
        },
        {
          "name": "stdout",
          "output_type": "stream",
          "text": [
            "\n",
            "Epoch 1: Training Loss: tensor(1.8431, device='cuda:0', grad_fn=<DivBackward0>)\n",
            "Evaluation: \n"
          ]
        },
        {
          "data": {
            "application/vnd.jupyter.widget-view+json": {
              "model_id": "68b1d672ec60458e83f2ac7dcf999a78",
              "version_major": 2,
              "version_minor": 0
            },
            "text/plain": [
              "HBox(children=(FloatProgress(value=0.0, max=7.0), HTML(value='')))"
            ]
          },
          "metadata": {
            "tags": []
          },
          "output_type": "display_data"
        },
        {
          "name": "stdout",
          "output_type": "stream",
          "text": [
            "\n",
            "0 Atelectasis 0.8989637305699482\n",
            "1 Cardiomegaly 0.8963730569948186\n",
            "2 Effusion 0.9455958549222798\n",
            "3 Infiltration 0.9715025906735751\n",
            "4 Mass 0.9961139896373057\n",
            "5 Nodule 0.966321243523316\n",
            "6 Pneumonia 0.9857512953367875\n",
            "7 Pneumothorax 0.9935233160621761\n",
            "8 Consolidation 0.9857512953367875\n",
            "9 Edema 0.9805699481865285\n",
            "10 Emphysema 0.9676165803108808\n",
            "11 Fibrosis 0.9935233160621761\n",
            "12 Pleural_Thickening 0.9792746113989638\n",
            "13 Hernia 1.0\n",
            "Averaged: 0.9686343449296818\n"
          ]
        }
      ],
      "source": [
        "from tqdm.notebook import tqdm\n",
        "\n",
        "iter_wrapper = (lambda x: tqdm(x, total=len(train_loader))) if args.tqdm else (lambda x: x)\n",
        "best_valid = 0\n",
        "for epoch in range(args.epochs):\n",
        "  epoch_loss = 0\n",
        "  for i, (cxr_id, feats, boxes, report, target) in iter_wrapper(enumerate(train_loader)):\n",
        "    model.train()\n",
        "    optim.zero_grad()\n",
        "    feats, boxes, target = feats.cuda(), boxes.cuda(), target.cuda()\n",
        "    logit = model(feats, boxes, report)\n",
        "    running_loss = loss(logit, target)\n",
        "    running_loss = running_loss * logit.size(1)\n",
        "    epoch_loss += running_loss\n",
        "    running_loss.backward()\n",
        "    torch.nn.utils.clip_grad_norm_(model.parameters(), 5.)\n",
        "    optim.step()\n",
        "  print(\"Epoch \"+str(epoch)+\": Training Loss: \"+str(epoch_loss/len(train_loader)))\n",
        "  print('Evaluation: ')\n",
        "  model.eval()\n",
        "  logit_list, target_list = [], []\n",
        "  iter_wrapper = (lambda x: tqdm(x, total=len(test_loader)))\n",
        "  for i, (cxr_id, feats, boxes, report, target) in iter_wrapper(enumerate(test_loader)):\n",
        "    target_list.append(target)\n",
        "    with torch.no_grad():\n",
        "      feats, boxes = feats.cuda(), boxes.cuda()\n",
        "      logit = model(feats, boxes, report)\n",
        "      logit_list.append(sgmd(logit).cpu().numpy())\n",
        "\n",
        "  eval(np.concatenate(target_list,axis = 0), np.concatenate(logit_list,axis = 0))"
      ]
    }
  ],
  "metadata": {
    "accelerator": "GPU",
    "colab": {
      "authorship_tag": "ABX9TyPUcD7PCUEme3I2fm5FeUMD",
      "collapsed_sections": [
        "YxFGskafyP2L",
        "qNuJtgvu2b6Q",
        "mZ3wU6U_7X-B"
      ],
      "include_colab_link": true,
      "name": "BERTHop.ipynb",
      "provenance": []
    },
    "kernelspec": {
      "display_name": "Python 3 (ipykernel)",
      "language": "python",
      "name": "python3"
    },
    "language_info": {
      "codemirror_mode": {
        "name": "ipython",
        "version": 3
      },
      "file_extension": ".py",
      "mimetype": "text/x-python",
      "name": "python",
      "nbconvert_exporter": "python",
      "pygments_lexer": "ipython3",
      "version": "3.10.4"
    },
    "widgets": {
      "application/vnd.jupyter.widget-state+json": {
        "07b93302c26f4706bf0ed979b2dcfdcc": {
          "model_module": "@jupyter-widgets/controls",
          "model_name": "HBoxModel",
          "state": {
            "_dom_classes": [],
            "_model_module": "@jupyter-widgets/controls",
            "_model_module_version": "1.5.0",
            "_model_name": "HBoxModel",
            "_view_count": null,
            "_view_module": "@jupyter-widgets/controls",
            "_view_module_version": "1.5.0",
            "_view_name": "HBoxView",
            "box_style": "",
            "children": [
              "IPY_MODEL_5414298fd9084eb9b401e2b57ff47e58",
              "IPY_MODEL_d9b2695f88e14fad890ebd2015d3a48d"
            ],
            "layout": "IPY_MODEL_474c46c5156244e298007d98d23e3f85"
          }
        },
        "0faad0d7fe3c482db16a39107c58d35b": {
          "model_module": "@jupyter-widgets/base",
          "model_name": "LayoutModel",
          "state": {
            "_model_module": "@jupyter-widgets/base",
            "_model_module_version": "1.2.0",
            "_model_name": "LayoutModel",
            "_view_count": null,
            "_view_module": "@jupyter-widgets/base",
            "_view_module_version": "1.2.0",
            "_view_name": "LayoutView",
            "align_content": null,
            "align_items": null,
            "align_self": null,
            "border": null,
            "bottom": null,
            "display": null,
            "flex": null,
            "flex_flow": null,
            "grid_area": null,
            "grid_auto_columns": null,
            "grid_auto_flow": null,
            "grid_auto_rows": null,
            "grid_column": null,
            "grid_gap": null,
            "grid_row": null,
            "grid_template_areas": null,
            "grid_template_columns": null,
            "grid_template_rows": null,
            "height": null,
            "justify_content": null,
            "justify_items": null,
            "left": null,
            "margin": null,
            "max_height": null,
            "max_width": null,
            "min_height": null,
            "min_width": null,
            "object_fit": null,
            "object_position": null,
            "order": null,
            "overflow": null,
            "overflow_x": null,
            "overflow_y": null,
            "padding": null,
            "right": null,
            "top": null,
            "visibility": null,
            "width": null
          }
        },
        "11a99243f3654a6084292750006628dc": {
          "model_module": "@jupyter-widgets/base",
          "model_name": "LayoutModel",
          "state": {
            "_model_module": "@jupyter-widgets/base",
            "_model_module_version": "1.2.0",
            "_model_name": "LayoutModel",
            "_view_count": null,
            "_view_module": "@jupyter-widgets/base",
            "_view_module_version": "1.2.0",
            "_view_name": "LayoutView",
            "align_content": null,
            "align_items": null,
            "align_self": null,
            "border": null,
            "bottom": null,
            "display": null,
            "flex": null,
            "flex_flow": null,
            "grid_area": null,
            "grid_auto_columns": null,
            "grid_auto_flow": null,
            "grid_auto_rows": null,
            "grid_column": null,
            "grid_gap": null,
            "grid_row": null,
            "grid_template_areas": null,
            "grid_template_columns": null,
            "grid_template_rows": null,
            "height": null,
            "justify_content": null,
            "justify_items": null,
            "left": null,
            "margin": null,
            "max_height": null,
            "max_width": null,
            "min_height": null,
            "min_width": null,
            "object_fit": null,
            "object_position": null,
            "order": null,
            "overflow": null,
            "overflow_x": null,
            "overflow_y": null,
            "padding": null,
            "right": null,
            "top": null,
            "visibility": null,
            "width": null
          }
        },
        "1f0515e1a34a45d2b11df7f9fe96462e": {
          "model_module": "@jupyter-widgets/controls",
          "model_name": "DescriptionStyleModel",
          "state": {
            "_model_module": "@jupyter-widgets/controls",
            "_model_module_version": "1.5.0",
            "_model_name": "DescriptionStyleModel",
            "_view_count": null,
            "_view_module": "@jupyter-widgets/base",
            "_view_module_version": "1.2.0",
            "_view_name": "StyleView",
            "description_width": ""
          }
        },
        "229776e2db2f4d7fab001cbc062f4a88": {
          "model_module": "@jupyter-widgets/controls",
          "model_name": "ProgressStyleModel",
          "state": {
            "_model_module": "@jupyter-widgets/controls",
            "_model_module_version": "1.5.0",
            "_model_name": "ProgressStyleModel",
            "_view_count": null,
            "_view_module": "@jupyter-widgets/base",
            "_view_module_version": "1.2.0",
            "_view_name": "StyleView",
            "bar_color": null,
            "description_width": "initial"
          }
        },
        "24cea1f04ff24113a23ec5fcf7ef84c3": {
          "model_module": "@jupyter-widgets/controls",
          "model_name": "ProgressStyleModel",
          "state": {
            "_model_module": "@jupyter-widgets/controls",
            "_model_module_version": "1.5.0",
            "_model_name": "ProgressStyleModel",
            "_view_count": null,
            "_view_module": "@jupyter-widgets/base",
            "_view_module_version": "1.2.0",
            "_view_name": "StyleView",
            "bar_color": null,
            "description_width": "initial"
          }
        },
        "2de5b7ad8ac441059e1dd58cbd5bd72c": {
          "model_module": "@jupyter-widgets/controls",
          "model_name": "ProgressStyleModel",
          "state": {
            "_model_module": "@jupyter-widgets/controls",
            "_model_module_version": "1.5.0",
            "_model_name": "ProgressStyleModel",
            "_view_count": null,
            "_view_module": "@jupyter-widgets/base",
            "_view_module_version": "1.2.0",
            "_view_name": "StyleView",
            "bar_color": null,
            "description_width": "initial"
          }
        },
        "3839a97dea7c4571831c0bb5d89e4890": {
          "model_module": "@jupyter-widgets/controls",
          "model_name": "DescriptionStyleModel",
          "state": {
            "_model_module": "@jupyter-widgets/controls",
            "_model_module_version": "1.5.0",
            "_model_name": "DescriptionStyleModel",
            "_view_count": null,
            "_view_module": "@jupyter-widgets/base",
            "_view_module_version": "1.2.0",
            "_view_name": "StyleView",
            "description_width": ""
          }
        },
        "41046242a45c4bb6b84d69819ee8418a": {
          "model_module": "@jupyter-widgets/controls",
          "model_name": "DescriptionStyleModel",
          "state": {
            "_model_module": "@jupyter-widgets/controls",
            "_model_module_version": "1.5.0",
            "_model_name": "DescriptionStyleModel",
            "_view_count": null,
            "_view_module": "@jupyter-widgets/base",
            "_view_module_version": "1.2.0",
            "_view_name": "StyleView",
            "description_width": ""
          }
        },
        "43b6f8b08d504da581b496bfac7e33b0": {
          "model_module": "@jupyter-widgets/base",
          "model_name": "LayoutModel",
          "state": {
            "_model_module": "@jupyter-widgets/base",
            "_model_module_version": "1.2.0",
            "_model_name": "LayoutModel",
            "_view_count": null,
            "_view_module": "@jupyter-widgets/base",
            "_view_module_version": "1.2.0",
            "_view_name": "LayoutView",
            "align_content": null,
            "align_items": null,
            "align_self": null,
            "border": null,
            "bottom": null,
            "display": null,
            "flex": null,
            "flex_flow": null,
            "grid_area": null,
            "grid_auto_columns": null,
            "grid_auto_flow": null,
            "grid_auto_rows": null,
            "grid_column": null,
            "grid_gap": null,
            "grid_row": null,
            "grid_template_areas": null,
            "grid_template_columns": null,
            "grid_template_rows": null,
            "height": null,
            "justify_content": null,
            "justify_items": null,
            "left": null,
            "margin": null,
            "max_height": null,
            "max_width": null,
            "min_height": null,
            "min_width": null,
            "object_fit": null,
            "object_position": null,
            "order": null,
            "overflow": null,
            "overflow_x": null,
            "overflow_y": null,
            "padding": null,
            "right": null,
            "top": null,
            "visibility": null,
            "width": null
          }
        },
        "474c46c5156244e298007d98d23e3f85": {
          "model_module": "@jupyter-widgets/base",
          "model_name": "LayoutModel",
          "state": {
            "_model_module": "@jupyter-widgets/base",
            "_model_module_version": "1.2.0",
            "_model_name": "LayoutModel",
            "_view_count": null,
            "_view_module": "@jupyter-widgets/base",
            "_view_module_version": "1.2.0",
            "_view_name": "LayoutView",
            "align_content": null,
            "align_items": null,
            "align_self": null,
            "border": null,
            "bottom": null,
            "display": null,
            "flex": null,
            "flex_flow": null,
            "grid_area": null,
            "grid_auto_columns": null,
            "grid_auto_flow": null,
            "grid_auto_rows": null,
            "grid_column": null,
            "grid_gap": null,
            "grid_row": null,
            "grid_template_areas": null,
            "grid_template_columns": null,
            "grid_template_rows": null,
            "height": null,
            "justify_content": null,
            "justify_items": null,
            "left": null,
            "margin": null,
            "max_height": null,
            "max_width": null,
            "min_height": null,
            "min_width": null,
            "object_fit": null,
            "object_position": null,
            "order": null,
            "overflow": null,
            "overflow_x": null,
            "overflow_y": null,
            "padding": null,
            "right": null,
            "top": null,
            "visibility": null,
            "width": null
          }
        },
        "4a1a8b0eea6a48318a0e8b8ec9f188c2": {
          "model_module": "@jupyter-widgets/base",
          "model_name": "LayoutModel",
          "state": {
            "_model_module": "@jupyter-widgets/base",
            "_model_module_version": "1.2.0",
            "_model_name": "LayoutModel",
            "_view_count": null,
            "_view_module": "@jupyter-widgets/base",
            "_view_module_version": "1.2.0",
            "_view_name": "LayoutView",
            "align_content": null,
            "align_items": null,
            "align_self": null,
            "border": null,
            "bottom": null,
            "display": null,
            "flex": null,
            "flex_flow": null,
            "grid_area": null,
            "grid_auto_columns": null,
            "grid_auto_flow": null,
            "grid_auto_rows": null,
            "grid_column": null,
            "grid_gap": null,
            "grid_row": null,
            "grid_template_areas": null,
            "grid_template_columns": null,
            "grid_template_rows": null,
            "height": null,
            "justify_content": null,
            "justify_items": null,
            "left": null,
            "margin": null,
            "max_height": null,
            "max_width": null,
            "min_height": null,
            "min_width": null,
            "object_fit": null,
            "object_position": null,
            "order": null,
            "overflow": null,
            "overflow_x": null,
            "overflow_y": null,
            "padding": null,
            "right": null,
            "top": null,
            "visibility": null,
            "width": null
          }
        },
        "5414298fd9084eb9b401e2b57ff47e58": {
          "model_module": "@jupyter-widgets/controls",
          "model_name": "FloatProgressModel",
          "state": {
            "_dom_classes": [],
            "_model_module": "@jupyter-widgets/controls",
            "_model_module_version": "1.5.0",
            "_model_name": "FloatProgressModel",
            "_view_count": null,
            "_view_module": "@jupyter-widgets/controls",
            "_view_module_version": "1.5.0",
            "_view_name": "ProgressView",
            "bar_style": "success",
            "description": "",
            "description_tooltip": null,
            "layout": "IPY_MODEL_eef1bcd19f7d47bcbede6f1d5c976e88",
            "max": 7,
            "min": 0,
            "orientation": "horizontal",
            "style": "IPY_MODEL_2de5b7ad8ac441059e1dd58cbd5bd72c",
            "value": 7
          }
        },
        "55151c83006a431997d35f5c7c3dcc94": {
          "model_module": "@jupyter-widgets/controls",
          "model_name": "FloatProgressModel",
          "state": {
            "_dom_classes": [],
            "_model_module": "@jupyter-widgets/controls",
            "_model_module_version": "1.5.0",
            "_model_name": "FloatProgressModel",
            "_view_count": null,
            "_view_module": "@jupyter-widgets/controls",
            "_view_module_version": "1.5.0",
            "_view_name": "ProgressView",
            "bar_style": "success",
            "description": "100%",
            "description_tooltip": null,
            "layout": "IPY_MODEL_6bd0f9775c964014a1b8d632a29377d4",
            "max": 7,
            "min": 0,
            "orientation": "horizontal",
            "style": "IPY_MODEL_229776e2db2f4d7fab001cbc062f4a88",
            "value": 7
          }
        },
        "5527bc1e0de64cb08d3bab4840df7da5": {
          "model_module": "@jupyter-widgets/base",
          "model_name": "LayoutModel",
          "state": {
            "_model_module": "@jupyter-widgets/base",
            "_model_module_version": "1.2.0",
            "_model_name": "LayoutModel",
            "_view_count": null,
            "_view_module": "@jupyter-widgets/base",
            "_view_module_version": "1.2.0",
            "_view_name": "LayoutView",
            "align_content": null,
            "align_items": null,
            "align_self": null,
            "border": null,
            "bottom": null,
            "display": null,
            "flex": null,
            "flex_flow": null,
            "grid_area": null,
            "grid_auto_columns": null,
            "grid_auto_flow": null,
            "grid_auto_rows": null,
            "grid_column": null,
            "grid_gap": null,
            "grid_row": null,
            "grid_template_areas": null,
            "grid_template_columns": null,
            "grid_template_rows": null,
            "height": null,
            "justify_content": null,
            "justify_items": null,
            "left": null,
            "margin": null,
            "max_height": null,
            "max_width": null,
            "min_height": null,
            "min_width": null,
            "object_fit": null,
            "object_position": null,
            "order": null,
            "overflow": null,
            "overflow_x": null,
            "overflow_y": null,
            "padding": null,
            "right": null,
            "top": null,
            "visibility": null,
            "width": null
          }
        },
        "58d75a9ae4ff43ccbac6c5a24929a86b": {
          "model_module": "@jupyter-widgets/controls",
          "model_name": "DescriptionStyleModel",
          "state": {
            "_model_module": "@jupyter-widgets/controls",
            "_model_module_version": "1.5.0",
            "_model_name": "DescriptionStyleModel",
            "_view_count": null,
            "_view_module": "@jupyter-widgets/base",
            "_view_module_version": "1.2.0",
            "_view_name": "StyleView",
            "description_width": ""
          }
        },
        "68b1d672ec60458e83f2ac7dcf999a78": {
          "model_module": "@jupyter-widgets/controls",
          "model_name": "HBoxModel",
          "state": {
            "_dom_classes": [],
            "_model_module": "@jupyter-widgets/controls",
            "_model_module_version": "1.5.0",
            "_model_name": "HBoxModel",
            "_view_count": null,
            "_view_module": "@jupyter-widgets/controls",
            "_view_module_version": "1.5.0",
            "_view_name": "HBoxView",
            "box_style": "",
            "children": [
              "IPY_MODEL_55151c83006a431997d35f5c7c3dcc94",
              "IPY_MODEL_88fafa6309754e759907ae056dcb39e7"
            ],
            "layout": "IPY_MODEL_e7cec90be3af4a359e535d94d5c0b9d4"
          }
        },
        "6bd0f9775c964014a1b8d632a29377d4": {
          "model_module": "@jupyter-widgets/base",
          "model_name": "LayoutModel",
          "state": {
            "_model_module": "@jupyter-widgets/base",
            "_model_module_version": "1.2.0",
            "_model_name": "LayoutModel",
            "_view_count": null,
            "_view_module": "@jupyter-widgets/base",
            "_view_module_version": "1.2.0",
            "_view_name": "LayoutView",
            "align_content": null,
            "align_items": null,
            "align_self": null,
            "border": null,
            "bottom": null,
            "display": null,
            "flex": null,
            "flex_flow": null,
            "grid_area": null,
            "grid_auto_columns": null,
            "grid_auto_flow": null,
            "grid_auto_rows": null,
            "grid_column": null,
            "grid_gap": null,
            "grid_row": null,
            "grid_template_areas": null,
            "grid_template_columns": null,
            "grid_template_rows": null,
            "height": null,
            "justify_content": null,
            "justify_items": null,
            "left": null,
            "margin": null,
            "max_height": null,
            "max_width": null,
            "min_height": null,
            "min_width": null,
            "object_fit": null,
            "object_position": null,
            "order": null,
            "overflow": null,
            "overflow_x": null,
            "overflow_y": null,
            "padding": null,
            "right": null,
            "top": null,
            "visibility": null,
            "width": null
          }
        },
        "71ab4c404745480481803c9d3f4b85fc": {
          "model_module": "@jupyter-widgets/base",
          "model_name": "LayoutModel",
          "state": {
            "_model_module": "@jupyter-widgets/base",
            "_model_module_version": "1.2.0",
            "_model_name": "LayoutModel",
            "_view_count": null,
            "_view_module": "@jupyter-widgets/base",
            "_view_module_version": "1.2.0",
            "_view_name": "LayoutView",
            "align_content": null,
            "align_items": null,
            "align_self": null,
            "border": null,
            "bottom": null,
            "display": null,
            "flex": null,
            "flex_flow": null,
            "grid_area": null,
            "grid_auto_columns": null,
            "grid_auto_flow": null,
            "grid_auto_rows": null,
            "grid_column": null,
            "grid_gap": null,
            "grid_row": null,
            "grid_template_areas": null,
            "grid_template_columns": null,
            "grid_template_rows": null,
            "height": null,
            "justify_content": null,
            "justify_items": null,
            "left": null,
            "margin": null,
            "max_height": null,
            "max_width": null,
            "min_height": null,
            "min_width": null,
            "object_fit": null,
            "object_position": null,
            "order": null,
            "overflow": null,
            "overflow_x": null,
            "overflow_y": null,
            "padding": null,
            "right": null,
            "top": null,
            "visibility": null,
            "width": null
          }
        },
        "72c243f0fea84d21b818beb4ac27b2d7": {
          "model_module": "@jupyter-widgets/controls",
          "model_name": "HBoxModel",
          "state": {
            "_dom_classes": [],
            "_model_module": "@jupyter-widgets/controls",
            "_model_module_version": "1.5.0",
            "_model_name": "HBoxModel",
            "_view_count": null,
            "_view_module": "@jupyter-widgets/controls",
            "_view_module_version": "1.5.0",
            "_view_name": "HBoxView",
            "box_style": "",
            "children": [
              "IPY_MODEL_a95bbddd8e5c4e03bff64e3b80bd881f",
              "IPY_MODEL_76b353baa18c49acb52df0366ca87c97"
            ],
            "layout": "IPY_MODEL_b9374f4e4b32423892a28b34b553b332"
          }
        },
        "76b353baa18c49acb52df0366ca87c97": {
          "model_module": "@jupyter-widgets/controls",
          "model_name": "HTMLModel",
          "state": {
            "_dom_classes": [],
            "_model_module": "@jupyter-widgets/controls",
            "_model_module_version": "1.5.0",
            "_model_name": "HTMLModel",
            "_view_count": null,
            "_view_module": "@jupyter-widgets/controls",
            "_view_module_version": "1.5.0",
            "_view_name": "HTMLView",
            "description": "",
            "description_tooltip": null,
            "layout": "IPY_MODEL_11a99243f3654a6084292750006628dc",
            "placeholder": "​",
            "style": "IPY_MODEL_41046242a45c4bb6b84d69819ee8418a",
            "value": " 161/161 [01:41&lt;00:00,  1.59it/s]"
          }
        },
        "88fafa6309754e759907ae056dcb39e7": {
          "model_module": "@jupyter-widgets/controls",
          "model_name": "HTMLModel",
          "state": {
            "_dom_classes": [],
            "_model_module": "@jupyter-widgets/controls",
            "_model_module_version": "1.5.0",
            "_model_name": "HTMLModel",
            "_view_count": null,
            "_view_module": "@jupyter-widgets/controls",
            "_view_module_version": "1.5.0",
            "_view_name": "HTMLView",
            "description": "",
            "description_tooltip": null,
            "layout": "IPY_MODEL_43b6f8b08d504da581b496bfac7e33b0",
            "placeholder": "​",
            "style": "IPY_MODEL_58d75a9ae4ff43ccbac6c5a24929a86b",
            "value": " 7/7 [00:08&lt;00:00,  1.20s/it]"
          }
        },
        "a67b28529fb9411dab2b981d9f6c84f6": {
          "model_module": "@jupyter-widgets/controls",
          "model_name": "FloatProgressModel",
          "state": {
            "_dom_classes": [],
            "_model_module": "@jupyter-widgets/controls",
            "_model_module_version": "1.5.0",
            "_model_name": "FloatProgressModel",
            "_view_count": null,
            "_view_module": "@jupyter-widgets/controls",
            "_view_module_version": "1.5.0",
            "_view_name": "ProgressView",
            "bar_style": "success",
            "description": "100%",
            "description_tooltip": null,
            "layout": "IPY_MODEL_71ab4c404745480481803c9d3f4b85fc",
            "max": 7,
            "min": 0,
            "orientation": "horizontal",
            "style": "IPY_MODEL_24cea1f04ff24113a23ec5fcf7ef84c3",
            "value": 7
          }
        },
        "a7dfc96af13847c89543cfc62568b82e": {
          "model_module": "@jupyter-widgets/controls",
          "model_name": "HBoxModel",
          "state": {
            "_dom_classes": [],
            "_model_module": "@jupyter-widgets/controls",
            "_model_module_version": "1.5.0",
            "_model_name": "HBoxModel",
            "_view_count": null,
            "_view_module": "@jupyter-widgets/controls",
            "_view_module_version": "1.5.0",
            "_view_name": "HBoxView",
            "box_style": "",
            "children": [
              "IPY_MODEL_a67b28529fb9411dab2b981d9f6c84f6",
              "IPY_MODEL_b3a451c51c0444a0b9a395269909c496"
            ],
            "layout": "IPY_MODEL_0faad0d7fe3c482db16a39107c58d35b"
          }
        },
        "a95bbddd8e5c4e03bff64e3b80bd881f": {
          "model_module": "@jupyter-widgets/controls",
          "model_name": "FloatProgressModel",
          "state": {
            "_dom_classes": [],
            "_model_module": "@jupyter-widgets/controls",
            "_model_module_version": "1.5.0",
            "_model_name": "FloatProgressModel",
            "_view_count": null,
            "_view_module": "@jupyter-widgets/controls",
            "_view_module_version": "1.5.0",
            "_view_name": "ProgressView",
            "bar_style": "success",
            "description": "100%",
            "description_tooltip": null,
            "layout": "IPY_MODEL_4a1a8b0eea6a48318a0e8b8ec9f188c2",
            "max": 161,
            "min": 0,
            "orientation": "horizontal",
            "style": "IPY_MODEL_ab3a076576404f63866e8cff6f5482a4",
            "value": 161
          }
        },
        "ab3a076576404f63866e8cff6f5482a4": {
          "model_module": "@jupyter-widgets/controls",
          "model_name": "ProgressStyleModel",
          "state": {
            "_model_module": "@jupyter-widgets/controls",
            "_model_module_version": "1.5.0",
            "_model_name": "ProgressStyleModel",
            "_view_count": null,
            "_view_module": "@jupyter-widgets/base",
            "_view_module_version": "1.2.0",
            "_view_name": "StyleView",
            "bar_color": null,
            "description_width": "initial"
          }
        },
        "b3a451c51c0444a0b9a395269909c496": {
          "model_module": "@jupyter-widgets/controls",
          "model_name": "HTMLModel",
          "state": {
            "_dom_classes": [],
            "_model_module": "@jupyter-widgets/controls",
            "_model_module_version": "1.5.0",
            "_model_name": "HTMLModel",
            "_view_count": null,
            "_view_module": "@jupyter-widgets/controls",
            "_view_module_version": "1.5.0",
            "_view_name": "HTMLView",
            "description": "",
            "description_tooltip": null,
            "layout": "IPY_MODEL_d6bb5f5da6904817b50588c3944f06ce",
            "placeholder": "​",
            "style": "IPY_MODEL_3839a97dea7c4571831c0bb5d89e4890",
            "value": " 7/7 [00:08&lt;00:00,  1.21s/it]"
          }
        },
        "b9374f4e4b32423892a28b34b553b332": {
          "model_module": "@jupyter-widgets/base",
          "model_name": "LayoutModel",
          "state": {
            "_model_module": "@jupyter-widgets/base",
            "_model_module_version": "1.2.0",
            "_model_name": "LayoutModel",
            "_view_count": null,
            "_view_module": "@jupyter-widgets/base",
            "_view_module_version": "1.2.0",
            "_view_name": "LayoutView",
            "align_content": null,
            "align_items": null,
            "align_self": null,
            "border": null,
            "bottom": null,
            "display": null,
            "flex": null,
            "flex_flow": null,
            "grid_area": null,
            "grid_auto_columns": null,
            "grid_auto_flow": null,
            "grid_auto_rows": null,
            "grid_column": null,
            "grid_gap": null,
            "grid_row": null,
            "grid_template_areas": null,
            "grid_template_columns": null,
            "grid_template_rows": null,
            "height": null,
            "justify_content": null,
            "justify_items": null,
            "left": null,
            "margin": null,
            "max_height": null,
            "max_width": null,
            "min_height": null,
            "min_width": null,
            "object_fit": null,
            "object_position": null,
            "order": null,
            "overflow": null,
            "overflow_x": null,
            "overflow_y": null,
            "padding": null,
            "right": null,
            "top": null,
            "visibility": null,
            "width": null
          }
        },
        "d6bb5f5da6904817b50588c3944f06ce": {
          "model_module": "@jupyter-widgets/base",
          "model_name": "LayoutModel",
          "state": {
            "_model_module": "@jupyter-widgets/base",
            "_model_module_version": "1.2.0",
            "_model_name": "LayoutModel",
            "_view_count": null,
            "_view_module": "@jupyter-widgets/base",
            "_view_module_version": "1.2.0",
            "_view_name": "LayoutView",
            "align_content": null,
            "align_items": null,
            "align_self": null,
            "border": null,
            "bottom": null,
            "display": null,
            "flex": null,
            "flex_flow": null,
            "grid_area": null,
            "grid_auto_columns": null,
            "grid_auto_flow": null,
            "grid_auto_rows": null,
            "grid_column": null,
            "grid_gap": null,
            "grid_row": null,
            "grid_template_areas": null,
            "grid_template_columns": null,
            "grid_template_rows": null,
            "height": null,
            "justify_content": null,
            "justify_items": null,
            "left": null,
            "margin": null,
            "max_height": null,
            "max_width": null,
            "min_height": null,
            "min_width": null,
            "object_fit": null,
            "object_position": null,
            "order": null,
            "overflow": null,
            "overflow_x": null,
            "overflow_y": null,
            "padding": null,
            "right": null,
            "top": null,
            "visibility": null,
            "width": null
          }
        },
        "d9b2695f88e14fad890ebd2015d3a48d": {
          "model_module": "@jupyter-widgets/controls",
          "model_name": "HTMLModel",
          "state": {
            "_dom_classes": [],
            "_model_module": "@jupyter-widgets/controls",
            "_model_module_version": "1.5.0",
            "_model_name": "HTMLModel",
            "_view_count": null,
            "_view_module": "@jupyter-widgets/controls",
            "_view_module_version": "1.5.0",
            "_view_name": "HTMLView",
            "description": "",
            "description_tooltip": null,
            "layout": "IPY_MODEL_5527bc1e0de64cb08d3bab4840df7da5",
            "placeholder": "​",
            "style": "IPY_MODEL_1f0515e1a34a45d2b11df7f9fe96462e",
            "value": " 161/? [01:40&lt;00:00,  1.60it/s]"
          }
        },
        "e7cec90be3af4a359e535d94d5c0b9d4": {
          "model_module": "@jupyter-widgets/base",
          "model_name": "LayoutModel",
          "state": {
            "_model_module": "@jupyter-widgets/base",
            "_model_module_version": "1.2.0",
            "_model_name": "LayoutModel",
            "_view_count": null,
            "_view_module": "@jupyter-widgets/base",
            "_view_module_version": "1.2.0",
            "_view_name": "LayoutView",
            "align_content": null,
            "align_items": null,
            "align_self": null,
            "border": null,
            "bottom": null,
            "display": null,
            "flex": null,
            "flex_flow": null,
            "grid_area": null,
            "grid_auto_columns": null,
            "grid_auto_flow": null,
            "grid_auto_rows": null,
            "grid_column": null,
            "grid_gap": null,
            "grid_row": null,
            "grid_template_areas": null,
            "grid_template_columns": null,
            "grid_template_rows": null,
            "height": null,
            "justify_content": null,
            "justify_items": null,
            "left": null,
            "margin": null,
            "max_height": null,
            "max_width": null,
            "min_height": null,
            "min_width": null,
            "object_fit": null,
            "object_position": null,
            "order": null,
            "overflow": null,
            "overflow_x": null,
            "overflow_y": null,
            "padding": null,
            "right": null,
            "top": null,
            "visibility": null,
            "width": null
          }
        },
        "eef1bcd19f7d47bcbede6f1d5c976e88": {
          "model_module": "@jupyter-widgets/base",
          "model_name": "LayoutModel",
          "state": {
            "_model_module": "@jupyter-widgets/base",
            "_model_module_version": "1.2.0",
            "_model_name": "LayoutModel",
            "_view_count": null,
            "_view_module": "@jupyter-widgets/base",
            "_view_module_version": "1.2.0",
            "_view_name": "LayoutView",
            "align_content": null,
            "align_items": null,
            "align_self": null,
            "border": null,
            "bottom": null,
            "display": null,
            "flex": null,
            "flex_flow": null,
            "grid_area": null,
            "grid_auto_columns": null,
            "grid_auto_flow": null,
            "grid_auto_rows": null,
            "grid_column": null,
            "grid_gap": null,
            "grid_row": null,
            "grid_template_areas": null,
            "grid_template_columns": null,
            "grid_template_rows": null,
            "height": null,
            "justify_content": null,
            "justify_items": null,
            "left": null,
            "margin": null,
            "max_height": null,
            "max_width": null,
            "min_height": null,
            "min_width": null,
            "object_fit": null,
            "object_position": null,
            "order": null,
            "overflow": null,
            "overflow_x": null,
            "overflow_y": null,
            "padding": null,
            "right": null,
            "top": null,
            "visibility": null,
            "width": null
          }
        }
      }
    }
  },
  "nbformat": 4,
  "nbformat_minor": 0
}
